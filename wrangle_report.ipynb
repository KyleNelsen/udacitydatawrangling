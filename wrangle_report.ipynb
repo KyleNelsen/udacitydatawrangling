{
 "cells": [
  {
   "cell_type": "markdown",
   "metadata": {},
   "source": [
    "# Reporting: wragle_report"
   ]
  },
  {
   "cell_type": "markdown",
   "metadata": {},
   "source": [
    "## Overview"
   ]
  },
  {
   "cell_type": "markdown",
   "metadata": {},
   "source": [
    "The goal of this project is to \"Wrangle WeRateDogs Twitter data to create interesting and trustworthy analyses and visualizations\". I will be going over the steps I took in order to achieve the wrangling portion of this project."
   ]
  },
  {
   "cell_type": "markdown",
   "metadata": {},
   "source": [
    "## Data Gathering"
   ]
  },
  {
   "cell_type": "markdown",
   "metadata": {},
   "source": [
    "The data for this came from 3 different sources.\n",
    "\n",
    "- The WeRateDogs Twitter archive which was provided in the form of a file named twitter_archive_enhanced.csv. This file had the majority of the tweet data.\n",
    "\n",
    "- The tweet image predictions which had to gathered by using the Requests library. The file contained data that predicted the dog breed based on pictures and gave its top 3 predictions. The file is named image_predictions.tsv.\n",
    "\n",
    "- The Twitter API which gave us the retweet and favorite count for each tweet. The API seemed to have changed at some point and I was unable to access the necessary parts of the API using the free version of the API. Therefore I used the dataset Udacity provided if this sort of thing were to occur. The file is named tweet_json.txt."
   ]
  },
  {
   "cell_type": "markdown",
   "metadata": {},
   "source": [
    "## Assessing Data"
   ]
  },
  {
   "cell_type": "markdown",
   "metadata": {},
   "source": [
    "The next step was to look at the data and find anything that needed to be changed. I went through each column one at a time. These are the issues I found:\n",
    "#### Quality issues\n",
    "In twitter-archive-enhanced.csv:\n",
    "1. The 'text' column has some rows use '' and others use \"\".\n",
    "\n",
    "2. The 'name' column has a bunch of unacceptable names.\n",
    "\n",
    "3. The 'timestamp' column should be a datetime data type.\n",
    "\n",
    "In image-predictions.tsv:\n",
    "\n",
    "4. There are rows where the top prediction isn't a dog breed. There are also rows where the the top 3 predictions are all non dog breeds.\n",
    "\n",
    "5. The 'jpg_url' column has duplicate images. They are unique tweets with the same image.\n",
    "\n",
    "6. The 'p1' column has non dog breeds listed.\n",
    "\n",
    "7. The 'p2' column has non dog breeds listed.\n",
    "\n",
    "8. The 'p3' column has non dog breeds listed.\n",
    "\n",
    "9. The 'p2_conf' column should be in the same format as the 'p1_conf' column.\n",
    "\n",
    "10. The 'p3_conf' column should be in the same format as the 'p1_conf' column.\n",
    "\n",
    "\n",
    "#### Tidiness issues\n",
    "In twitter-archive-enhanced.csv:\n",
    "1. Columns 3-11 should have more descriptive names.\n",
    "\n",
    "In General:\n",
    "\n",
    "2. Merge all 3 data sources into one using the common tweet_id column"
   ]
  },
  {
   "cell_type": "markdown",
   "metadata": {},
   "source": [
    "## Cleaning Data"
   ]
  },
  {
   "cell_type": "markdown",
   "metadata": {},
   "source": [
    "The final step was to fix all the issues I found. I first made copies of the 3 datasets so I could work with them and revert back if I needed to. Some issues were easy to fix and others took a while to figure out. I used pandas and numpy a lot to clean the data. I put all 3 data sources into twitter_archive_master.csv"
   ]
  },
  {
   "cell_type": "markdown",
   "metadata": {},
   "source": [
    "Once the data was all cleaned. I moved on making visualizations and gathering insights. That information will be in act_report"
   ]
  }
 ],
 "metadata": {
  "kernelspec": {
   "display_name": "Python 3 (ipykernel)",
   "language": "python",
   "name": "python3"
  },
  "language_info": {
   "codemirror_mode": {
    "name": "ipython",
    "version": 3
   },
   "file_extension": ".py",
   "mimetype": "text/x-python",
   "name": "python",
   "nbconvert_exporter": "python",
   "pygments_lexer": "ipython3",
   "version": "3.11.5"
  }
 },
 "nbformat": 4,
 "nbformat_minor": 4
}
